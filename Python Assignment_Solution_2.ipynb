{
 "cells": [
  {
   "cell_type": "markdown",
   "metadata": {},
   "source": [
    "# Create the below pattern using nested for loop in Python\n",
    "*\n",
    "* *\n",
    "* * *\n",
    "* * * *\n",
    "* * * * *\n",
    "* * * *\n",
    "* * *\n",
    "* *\n",
    "*"
   ]
  },
  {
   "cell_type": "code",
   "execution_count": 1,
   "metadata": {},
   "outputs": [
    {
     "name": "stdout",
     "output_type": "stream",
     "text": [
      "* \r\n",
      "* * \r\n",
      "* * * \r\n",
      "* * * * \r\n",
      "* * * * * \r\n",
      "* * * * \r\n",
      "* * * \r\n",
      "* * \r\n",
      "* \r\n"
     ]
    }
   ],
   "source": [
    "def pyramidpattern(n):\n",
    "    for i in range(0, n):\n",
    "        for j in range(0, i+1):\n",
    "            print(\"* \",end=\"\")\n",
    "        print(\"\\r\")\n",
    "    for i in range(n-1,0,-1 ):   \n",
    "        for j in range(1,i+1):\n",
    "            print(\"* \",end=\"\")\n",
    "        print(\"\\r\")    \n",
    "n = 5\n",
    "pyramidpattern(n)\n"
   ]
  },
  {
   "cell_type": "markdown",
   "metadata": {},
   "source": [
    "# Write a Python program to reverse a word after accepting the input from the user\n"
   ]
  },
  {
   "cell_type": "code",
   "execution_count": 5,
   "metadata": {},
   "outputs": [
    {
     "name": "stdout",
     "output_type": "stream",
     "text": [
      "Enter a word :ineuron\n",
      "ineuron\n",
      "Reversed input word :norueni\n"
     ]
    }
   ],
   "source": [
    "#Approach 1:\n",
    "\n",
    "def reverse_word(str):\n",
    "  rev_str=\"\"\n",
    "  for i in str:\n",
    "    rev_str=i + rev_str\n",
    "  return rev_str\n",
    "str = input(\"Enter a word :\")\n",
    "print(str)\n",
    "print(\"Reversed input word :\" + reverse_word(str)) \n",
    " \n"
   ]
  },
  {
   "cell_type": "code",
   "execution_count": 6,
   "metadata": {},
   "outputs": [
    {
     "name": "stdout",
     "output_type": "stream",
     "text": [
      "Enter a word :ineuron\n",
      "ineuron\n",
      "Reversed input word : norueni\n"
     ]
    }
   ],
   "source": [
    "#Approach 2:\n",
    "def reverse_word(str):\n",
    "  rev_str=\"\"\n",
    "  rev_str=str[::-1]\n",
    "  return rev_str\n",
    "str = input(\"Enter a word :\")\n",
    "print(str)\n",
    "print(\"Reversed input word :\" , reverse_word(str))"
   ]
  },
  {
   "cell_type": "code",
   "execution_count": null,
   "metadata": {},
   "outputs": [],
   "source": []
  }
 ],
 "metadata": {
  "kernelspec": {
   "display_name": "Python 3",
   "language": "python",
   "name": "python3"
  },
  "language_info": {
   "codemirror_mode": {
    "name": "ipython",
    "version": 3
   },
   "file_extension": ".py",
   "mimetype": "text/x-python",
   "name": "python",
   "nbconvert_exporter": "python",
   "pygments_lexer": "ipython3",
   "version": "3.7.6"
  }
 },
 "nbformat": 4,
 "nbformat_minor": 4
}
